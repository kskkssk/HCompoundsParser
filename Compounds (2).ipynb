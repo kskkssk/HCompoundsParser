{
 "cells": [
  {
   "cell_type": "code",
   "execution_count": null,
   "id": "704a03f2-ed21-4a16-89a0-2941ac4e0772",
   "metadata": {},
   "outputs": [],
   "source": [
    "%%capture\n",
    "!pip install chemdataextractor"
   ]
  },
  {
   "cell_type": "code",
   "execution_count": null,
   "id": "d22efe3e-8512-4060-99ce-1cf61d5a933a",
   "metadata": {},
   "outputs": [],
   "source": [
    "%%capture\n",
    "!pip install rdkit"
   ]
  },
  {
   "cell_type": "code",
   "execution_count": null,
   "id": "74205b39-a84a-4b2a-91d8-6ccbaae1b399",
   "metadata": {},
   "outputs": [],
   "source": [
    "%%capture\n",
    "!pip install py3Dmol"
   ]
  },
  {
   "cell_type": "code",
   "execution_count": null,
   "id": "8695ff75-edc1-4aea-a456-58ec3d635fc3",
   "metadata": {},
   "outputs": [],
   "source": [
    "import chemdataextractor as cde"
   ]
  },
  {
   "cell_type": "code",
   "execution_count": null,
   "id": "31db4ac6-e0ea-4994-b36b-4275cf7c4618",
   "metadata": {},
   "outputs": [],
   "source": [
    "def get_compounds(pdf):\n",
    "    compounds = []\n",
    "    doc = cde.Document.from_file(pdf)\n",
    "    chemical_entities = doc.records.serialize()\n",
    "    for entity in chemical_entities:\n",
    "        if 'names' in entity:\n",
    "            compounds.extend(entity['names'])\n",
    "    return compounds\n",
    "#Вписать путь к статье \n",
    "compounds = get_compounds('Article.pdf')"
   ]
  },
  {
   "cell_type": "markdown",
   "id": "4e9c2a19-8f53-4fa9-a17f-88f5ab863672",
   "metadata": {},
   "source": [
    "Пример с pubchempy"
   ]
  },
  {
   "cell_type": "code",
   "execution_count": null,
   "id": "8d19251f-7d54-441a-8631-d36413350830",
   "metadata": {},
   "outputs": [],
   "source": [
    "%%capture\n",
    "!pip install PyMuPDF pubchempy"
   ]
  },
  {
   "cell_type": "code",
   "execution_count": null,
   "id": "526813c0-13cc-487e-9fda-b8db98b800a8",
   "metadata": {},
   "outputs": [],
   "source": [
    "import pubchempy as pcp\n",
    "\n",
    "def resolve_smiles(compound_name):\n",
    "    try:\n",
    "        compound = pcp.get_compounds(compound_name, 'name')\n",
    "        if compound:\n",
    "            return compound[0].canonical_smiles\n",
    "        else:\n",
    "            print(f\"Соединение '{compound_name}' не найдено в базе данных PubChem.\")\n",
    "            return None\n",
    "    except Exception as e:\n",
    "        print(f\"Ошибка при получении SMILES для соединения '{compound_name}': {str(e)}\")\n",
    "        return None\n",
    "\n",
    "    \n",
    "compound_names = compounds\n",
    "\n",
    "smiles_list = []\n",
    "d = {}\n",
    "for compound_name in compound_names:\n",
    "    smiles = resolve_smiles(compound_name)\n",
    "    if smiles is not None:\n",
    "        smiles_list.append(smiles)\n",
    "        d[compound_name] = smiles"
   ]
  },
  {
   "cell_type": "code",
   "execution_count": null,
   "id": "29a33758-122b-4e71-bdb6-89a8ce01e559",
   "metadata": {},
   "outputs": [],
   "source": [
    "d"
   ]
  },
  {
   "cell_type": "code",
   "execution_count": null,
   "id": "811d72eb-39c6-4b76-8bb2-2c4bdb6a885d",
   "metadata": {},
   "outputs": [],
   "source": [
    "from rdkit import Chem\n",
    "from rdkit.Chem import AllChem\n",
    "from rdkit.Chem.rdMolDescriptors import CalcNumHBA, CalcNumHBD\n",
    "from rdkit.Chem.Draw import IPythonConsole\n",
    "from rdkit.Chem import Draw\n",
    "from rdkit.Chem import rdDepictor\n",
    "import numpy as np\n",
    "import py3Dmol\n",
    "\n",
    "rdDepictor.SetPreferCoordGen(True)\n",
    "\n",
    "\n",
    "def check_hydrogen_bonds(mol):\n",
    "    hba = CalcNumHBA(mol)  \n",
    "    hbd = CalcNumHBD(mol)  \n",
    "    return hba > 0 and hbd > 0\n",
    "\n",
    "\n",
    "def visualize_molecule(smiles):\n",
    "    mol = Chem.MolFromSmiles(smiles)\n",
    "\n",
    "    if mol is None:\n",
    "        print(f\"Не удалось создать молекулу из SMILES: {smiles}\")\n",
    "    else:\n",
    "        if check_hydrogen_bonds(mol):\n",
    "            print(f\"Визуализация молекулы в 2D:\")\n",
    "            display(Draw.MolToImage(mol))\n",
    "\n",
    "            mol = Chem.AddHs(mol)\n",
    "\n",
    "            params = AllChem.ETKDGv3()\n",
    "            params.maxAttempts = 1000 \n",
    "            res = AllChem.EmbedMolecule(mol, params)\n",
    "\n",
    "            if res == -1:\n",
    "                print(f\"Не удалось сгенерировать конформер для молекулы: {smiles}\")\n",
    "            else:\n",
    "                try:\n",
    "                    AllChem.MMFFOptimizeMolecule(mol)\n",
    "                except ValueError as e:\n",
    "                    print(f\"Ошибка при оптимизации: {str(e)}\")\n",
    "\n",
    "                print(f\"Визуализация молекулы в 3D:\")\n",
    "                mb = Chem.MolToMolBlock(mol)\n",
    "\n",
    "                viewer = py3Dmol.view(width=400, height=400)\n",
    "                viewer.addModel(mb, 'mol')\n",
    "                viewer.setStyle({'stick': {}})\n",
    "                viewer.setBackgroundColor('white')\n",
    "                viewer.zoomTo()\n",
    "                viewer.show()\n",
    "\n",
    "    \n",
    "for compound_name, smiles in zip(compound_names, smiles_list):\n",
    "    if visualize_molecule(smiles) is not None:\n",
    "        print(f\"{compound_name}: {visualize_molecule(compound_name, smiles)}\")"
   ]
  },
  {
   "cell_type": "markdown",
   "id": "fbe83623-211b-4806-9296-4d6997f9a417",
   "metadata": {},
   "source": [
    "Пример с библиотекой ChemSpider"
   ]
  },
  {
   "cell_type": "code",
   "execution_count": null,
   "id": "a1ab8b91-1576-4b0b-a7f3-8dc5723b784d",
   "metadata": {},
   "outputs": [],
   "source": [
    "%%capture\n",
    "!pip install chemspipy"
   ]
  },
  {
   "cell_type": "code",
   "execution_count": null,
   "id": "cfaa4a66-9f48-4f39-bd25-428795a5afec",
   "metadata": {},
   "outputs": [],
   "source": [
    "import chemspipy\n",
    "from chemspipy import ChemSpider\n",
    "from rdkit import Chem\n",
    "from rdkit.Chem import Draw\n",
    "\n",
    "API_KEY = ''\n",
    "\n",
    "cs = ChemSpider(API_KEY)\n",
    "\n",
    "def resolve_smiles(compound_name):\n",
    "\n",
    "    try:\n",
    "        \n",
    "        results = cs.search(compound_name)\n",
    "        if results:\n",
    "            compound = results[0]\n",
    "            return compound.smiles\n",
    "        else:\n",
    "            print(f\"Соединение '{compound_name}' не найдено в базе данных ChemSpider.\")\n",
    "            return None\n",
    "    except Exception as e:\n",
    "        print(f\"Ошибка при получении SMILES для соединения '{compound_name}': {str(e)}\")\n",
    "        return None\n",
    "\n",
    "compound_names = compounds\n",
    "\n",
    "smiles_list = []\n",
    "c = {}\n",
    "for compound_name in compound_names:\n",
    "    smiles = resolve_smiles(compound_name)\n",
    "    if smiles is not None:\n",
    "        smiles_list.append(smiles)\n",
    "        c[compound_name] = smiles\n",
    "\n",
    "\n",
    "for compound_name, smiles in c.items():\n",
    "    if smiles:\n",
    "        mol = Chem.MolFromSmiles(smiles)\n",
    "        if mol:\n",
    "            print(f\"{compound_name}: {smiles}\")\n",
    "            display(Draw.MolToImage(mol))\n",
    "        else:\n",
    "            print(f\"Не удалось создать молекулу из SMILES для соединения '{compound_name}'.\")\n",
    "    else:\n",
    "        print(f\"SMILES для соединения '{compound_name}' не найден.\")\n"
   ]
  }
 ],
 "metadata": {
  "kernelspec": {
   "display_name": "Python 3 (ipykernel)",
   "language": "python",
   "name": "python3"
  },
  "language_info": {
   "codemirror_mode": {
    "name": "ipython",
    "version": 3
   },
   "file_extension": ".py",
   "mimetype": "text/x-python",
   "name": "python",
   "nbconvert_exporter": "python",
   "pygments_lexer": "ipython3",
   "version": "3.8.10"
  }
 },
 "nbformat": 4,
 "nbformat_minor": 5
}
